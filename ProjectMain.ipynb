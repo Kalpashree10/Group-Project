{
 "cells": [
  {
   "cell_type": "code",
   "execution_count": 2,
   "id": "437df2fe-628f-4244-b8d3-55d30927b319",
   "metadata": {},
   "outputs": [
    {
     "name": "stderr",
     "output_type": "stream",
     "text": [
      "Warning message:\n",
      "“package ‘ggplot2’ was built under R version 4.3.2”\n",
      "── \u001b[1mAttaching core tidyverse packages\u001b[22m ──────────────────────── tidyverse 2.0.0 ──\n",
      "\u001b[32m✔\u001b[39m \u001b[34mdplyr    \u001b[39m 1.1.3     \u001b[32m✔\u001b[39m \u001b[34mreadr    \u001b[39m 2.1.4\n",
      "\u001b[32m✔\u001b[39m \u001b[34mforcats  \u001b[39m 1.0.0     \u001b[32m✔\u001b[39m \u001b[34mstringr  \u001b[39m 1.5.0\n",
      "\u001b[32m✔\u001b[39m \u001b[34mggplot2  \u001b[39m 3.5.0     \u001b[32m✔\u001b[39m \u001b[34mtibble   \u001b[39m 3.2.1\n",
      "\u001b[32m✔\u001b[39m \u001b[34mlubridate\u001b[39m 1.9.2     \u001b[32m✔\u001b[39m \u001b[34mtidyr    \u001b[39m 1.3.0\n",
      "\u001b[32m✔\u001b[39m \u001b[34mpurrr    \u001b[39m 1.0.2     \n",
      "── \u001b[1mConflicts\u001b[22m ────────────────────────────────────────── tidyverse_conflicts() ──\n",
      "\u001b[31m✖\u001b[39m \u001b[34mdplyr\u001b[39m::\u001b[32mfilter()\u001b[39m masks \u001b[34mstats\u001b[39m::filter()\n",
      "\u001b[31m✖\u001b[39m \u001b[34mdplyr\u001b[39m::\u001b[32mlag()\u001b[39m    masks \u001b[34mstats\u001b[39m::lag()\n",
      "\u001b[36mℹ\u001b[39m Use the conflicted package (\u001b[3m\u001b[34m<http://conflicted.r-lib.org/>\u001b[39m\u001b[23m) to force all conflicts to become errors\n",
      "── \u001b[1mAttaching packages\u001b[22m ────────────────────────────────────── tidymodels 1.1.1 ──\n",
      "\n",
      "\u001b[32m✔\u001b[39m \u001b[34mbroom       \u001b[39m 1.0.5     \u001b[32m✔\u001b[39m \u001b[34mrsample     \u001b[39m 1.2.0\n",
      "\u001b[32m✔\u001b[39m \u001b[34mdials       \u001b[39m 1.2.0     \u001b[32m✔\u001b[39m \u001b[34mtune        \u001b[39m 1.1.2\n",
      "\u001b[32m✔\u001b[39m \u001b[34minfer       \u001b[39m 1.0.5     \u001b[32m✔\u001b[39m \u001b[34mworkflows   \u001b[39m 1.1.3\n",
      "\u001b[32m✔\u001b[39m \u001b[34mmodeldata   \u001b[39m 1.2.0     \u001b[32m✔\u001b[39m \u001b[34mworkflowsets\u001b[39m 1.0.1\n",
      "\u001b[32m✔\u001b[39m \u001b[34mparsnip     \u001b[39m 1.1.1     \u001b[32m✔\u001b[39m \u001b[34myardstick   \u001b[39m 1.2.0\n",
      "\u001b[32m✔\u001b[39m \u001b[34mrecipes     \u001b[39m 1.0.8     \n",
      "\n",
      "── \u001b[1mConflicts\u001b[22m ───────────────────────────────────────── tidymodels_conflicts() ──\n",
      "\u001b[31m✖\u001b[39m \u001b[34mscales\u001b[39m::\u001b[32mdiscard()\u001b[39m masks \u001b[34mpurrr\u001b[39m::discard()\n",
      "\u001b[31m✖\u001b[39m \u001b[34mdplyr\u001b[39m::\u001b[32mfilter()\u001b[39m   masks \u001b[34mstats\u001b[39m::filter()\n",
      "\u001b[31m✖\u001b[39m \u001b[34mrecipes\u001b[39m::\u001b[32mfixed()\u001b[39m  masks \u001b[34mstringr\u001b[39m::fixed()\n",
      "\u001b[31m✖\u001b[39m \u001b[34mdplyr\u001b[39m::\u001b[32mlag()\u001b[39m      masks \u001b[34mstats\u001b[39m::lag()\n",
      "\u001b[31m✖\u001b[39m \u001b[34myardstick\u001b[39m::\u001b[32mspec()\u001b[39m masks \u001b[34mreadr\u001b[39m::spec()\n",
      "\u001b[31m✖\u001b[39m \u001b[34mrecipes\u001b[39m::\u001b[32mstep()\u001b[39m   masks \u001b[34mstats\u001b[39m::step()\n",
      "\u001b[34m•\u001b[39m Use suppressPackageStartupMessages() to eliminate package startup messages\n",
      "\n",
      "Updating HTML index of packages in '.Library'\n",
      "\n",
      "Making 'packages.html' ...\n",
      " done\n",
      "\n",
      "Updating HTML index of packages in '.Library'\n",
      "\n",
      "Making 'packages.html' ...\n",
      " done\n",
      "\n",
      "Registered S3 method overwritten by 'GGally':\n",
      "  method from   \n",
      "  +.gg   ggplot2\n",
      "\n"
     ]
    }
   ],
   "source": [
    "# library(tidyverse)\n",
    "# library(repr)\n",
    "# #library(readxl)\n",
    "# library(tidymodels)\n",
    "# #library(ggplot2)\n",
    "# #install.packages(\"ggplot2\")\n",
    "\n",
    "library(tidyverse)\n",
    "library(repr)\n",
    "library(tidymodels)\n",
    "library(rsample)\n",
    "options(repr.matrix.max.rows = 6)\n",
    "install.packages(\"ggplot2\")\n",
    "install.packages(\"GGally\")\n",
    "library(ggplot2)\n",
    "library(GGally)"
   ]
  },
  {
   "cell_type": "markdown",
   "id": "1980f0fc-133f-499d-b206-e6588416a1e0",
   "metadata": {},
   "source": [
    "Introduction\r\n",
    "\n",
    "Chest pain, also known as angina, is characterized by blockages in the blood vessels leading to one’s heart. Four types of these chest pains include typical angina, atypical angina, non-anginal pain and asymptomatic. Typical angina is a substernal chest pain caused by physical exertion while atypical angina is distinguished as epigastric pain (AlBadri et.al., 2017). In addition, non-anginal pain is not attributed to an underlying heart disease and asymptomatic chest pain is a temporary change in blood flow to the heart without typical chest pain (Rahel et.al., 2018). Whilst different, they show overlapping symptoms, such as shortness of breath and intense pain that makes it difficult to distinguish between them. Many studies have shown that age, unhealthy eating patterns, stress and more are all accompanied by a greater risk of experiencing angina (“Causes and Risk Factors”). \n",
    "\r\n",
    "Question: What type of chest pain is most likely to occur based on their age, resting blood sugar, maximum heart rate and presence of heart disease?\r\n"
   ]
  },
  {
   "cell_type": "code",
   "execution_count": 3,
   "id": "a6650c9a-7e4a-47c2-9641-b2a9ddb6c3d6",
   "metadata": {
    "scrolled": true
   },
   "outputs": [
    {
     "data": {
      "text/html": [
       "<table class=\"dataframe\">\n",
       "<caption>A data.frame: 294 × 14</caption>\n",
       "<thead>\n",
       "\t<tr><th scope=col>V1</th><th scope=col>V2</th><th scope=col>V3</th><th scope=col>V4</th><th scope=col>V5</th><th scope=col>V6</th><th scope=col>V7</th><th scope=col>V8</th><th scope=col>V9</th><th scope=col>V10</th><th scope=col>V11</th><th scope=col>V12</th><th scope=col>V13</th><th scope=col>V14</th></tr>\n",
       "\t<tr><th scope=col>&lt;int&gt;</th><th scope=col>&lt;int&gt;</th><th scope=col>&lt;int&gt;</th><th scope=col>&lt;chr&gt;</th><th scope=col>&lt;chr&gt;</th><th scope=col>&lt;chr&gt;</th><th scope=col>&lt;chr&gt;</th><th scope=col>&lt;chr&gt;</th><th scope=col>&lt;chr&gt;</th><th scope=col>&lt;dbl&gt;</th><th scope=col>&lt;chr&gt;</th><th scope=col>&lt;chr&gt;</th><th scope=col>&lt;chr&gt;</th><th scope=col>&lt;int&gt;</th></tr>\n",
       "</thead>\n",
       "<tbody>\n",
       "\t<tr><td>28</td><td>1</td><td>2</td><td>130</td><td>132</td><td>0</td><td>2</td><td>185</td><td>0</td><td>0</td><td>?</td><td>?</td><td>?</td><td>0</td></tr>\n",
       "\t<tr><td>29</td><td>1</td><td>2</td><td>120</td><td>243</td><td>0</td><td>0</td><td>160</td><td>0</td><td>0</td><td>?</td><td>?</td><td>?</td><td>0</td></tr>\n",
       "\t<tr><td>29</td><td>1</td><td>2</td><td>140</td><td>?  </td><td>0</td><td>0</td><td>170</td><td>0</td><td>0</td><td>?</td><td>?</td><td>?</td><td>0</td></tr>\n",
       "\t<tr><td>⋮</td><td>⋮</td><td>⋮</td><td>⋮</td><td>⋮</td><td>⋮</td><td>⋮</td><td>⋮</td><td>⋮</td><td>⋮</td><td>⋮</td><td>⋮</td><td>⋮</td><td>⋮</td></tr>\n",
       "\t<tr><td>56</td><td>1</td><td>4</td><td>155</td><td>342</td><td>1</td><td>0</td><td>150</td><td>1</td><td>3</td><td>2</td><td>?</td><td>?</td><td>1</td></tr>\n",
       "\t<tr><td>58</td><td>0</td><td>2</td><td>180</td><td>393</td><td>0</td><td>0</td><td>110</td><td>1</td><td>1</td><td>2</td><td>?</td><td>7</td><td>1</td></tr>\n",
       "\t<tr><td>65</td><td>1</td><td>4</td><td>130</td><td>275</td><td>0</td><td>1</td><td>115</td><td>1</td><td>1</td><td>2</td><td>?</td><td>?</td><td>1</td></tr>\n",
       "</tbody>\n",
       "</table>\n"
      ],
      "text/latex": [
       "A data.frame: 294 × 14\n",
       "\\begin{tabular}{llllllllllllll}\n",
       " V1 & V2 & V3 & V4 & V5 & V6 & V7 & V8 & V9 & V10 & V11 & V12 & V13 & V14\\\\\n",
       " <int> & <int> & <int> & <chr> & <chr> & <chr> & <chr> & <chr> & <chr> & <dbl> & <chr> & <chr> & <chr> & <int>\\\\\n",
       "\\hline\n",
       "\t 28 & 1 & 2 & 130 & 132 & 0 & 2 & 185 & 0 & 0 & ? & ? & ? & 0\\\\\n",
       "\t 29 & 1 & 2 & 120 & 243 & 0 & 0 & 160 & 0 & 0 & ? & ? & ? & 0\\\\\n",
       "\t 29 & 1 & 2 & 140 & ?   & 0 & 0 & 170 & 0 & 0 & ? & ? & ? & 0\\\\\n",
       "\t ⋮ & ⋮ & ⋮ & ⋮ & ⋮ & ⋮ & ⋮ & ⋮ & ⋮ & ⋮ & ⋮ & ⋮ & ⋮ & ⋮\\\\\n",
       "\t 56 & 1 & 4 & 155 & 342 & 1 & 0 & 150 & 1 & 3 & 2 & ? & ? & 1\\\\\n",
       "\t 58 & 0 & 2 & 180 & 393 & 0 & 0 & 110 & 1 & 1 & 2 & ? & 7 & 1\\\\\n",
       "\t 65 & 1 & 4 & 130 & 275 & 0 & 1 & 115 & 1 & 1 & 2 & ? & ? & 1\\\\\n",
       "\\end{tabular}\n"
      ],
      "text/markdown": [
       "\n",
       "A data.frame: 294 × 14\n",
       "\n",
       "| V1 &lt;int&gt; | V2 &lt;int&gt; | V3 &lt;int&gt; | V4 &lt;chr&gt; | V5 &lt;chr&gt; | V6 &lt;chr&gt; | V7 &lt;chr&gt; | V8 &lt;chr&gt; | V9 &lt;chr&gt; | V10 &lt;dbl&gt; | V11 &lt;chr&gt; | V12 &lt;chr&gt; | V13 &lt;chr&gt; | V14 &lt;int&gt; |\n",
       "|---|---|---|---|---|---|---|---|---|---|---|---|---|---|\n",
       "| 28 | 1 | 2 | 130 | 132 | 0 | 2 | 185 | 0 | 0 | ? | ? | ? | 0 |\n",
       "| 29 | 1 | 2 | 120 | 243 | 0 | 0 | 160 | 0 | 0 | ? | ? | ? | 0 |\n",
       "| 29 | 1 | 2 | 140 | ?   | 0 | 0 | 170 | 0 | 0 | ? | ? | ? | 0 |\n",
       "| ⋮ | ⋮ | ⋮ | ⋮ | ⋮ | ⋮ | ⋮ | ⋮ | ⋮ | ⋮ | ⋮ | ⋮ | ⋮ | ⋮ |\n",
       "| 56 | 1 | 4 | 155 | 342 | 1 | 0 | 150 | 1 | 3 | 2 | ? | ? | 1 |\n",
       "| 58 | 0 | 2 | 180 | 393 | 0 | 0 | 110 | 1 | 1 | 2 | ? | 7 | 1 |\n",
       "| 65 | 1 | 4 | 130 | 275 | 0 | 1 | 115 | 1 | 1 | 2 | ? | ? | 1 |\n",
       "\n"
      ],
      "text/plain": [
       "    V1 V2 V3 V4  V5  V6 V7 V8  V9 V10 V11 V12 V13 V14\n",
       "1   28 1  2  130 132 0  2  185 0  0   ?   ?   ?   0  \n",
       "2   29 1  2  120 243 0  0  160 0  0   ?   ?   ?   0  \n",
       "3   29 1  2  140 ?   0  0  170 0  0   ?   ?   ?   0  \n",
       "⋮   ⋮  ⋮  ⋮  ⋮   ⋮   ⋮  ⋮  ⋮   ⋮  ⋮   ⋮   ⋮   ⋮   ⋮  \n",
       "292 56 1  4  155 342 1  0  150 1  3   2   ?   ?   1  \n",
       "293 58 0  2  180 393 0  0  110 1  1   2   ?   7   1  \n",
       "294 65 1  4  130 275 0  1  115 1  1   2   ?   ?   1  "
      ]
     },
     "metadata": {},
     "output_type": "display_data"
    },
    {
     "data": {
      "text/html": [
       "<table class=\"dataframe\">\n",
       "<caption>A data.frame: 270 × 6</caption>\n",
       "<thead>\n",
       "\t<tr><th></th><th scope=col>age</th><th scope=col>chest_pain_type</th><th scope=col>resting_bps</th><th scope=col>cholestoral</th><th scope=col>max_heartrate</th><th scope=col>heart_disease</th></tr>\n",
       "\t<tr><th></th><th scope=col>&lt;int&gt;</th><th scope=col>&lt;int&gt;</th><th scope=col>&lt;chr&gt;</th><th scope=col>&lt;chr&gt;</th><th scope=col>&lt;chr&gt;</th><th scope=col>&lt;int&gt;</th></tr>\n",
       "</thead>\n",
       "<tbody>\n",
       "\t<tr><th scope=row>1</th><td>28</td><td>2</td><td>130</td><td>132</td><td>185</td><td>0</td></tr>\n",
       "\t<tr><th scope=row>2</th><td>29</td><td>2</td><td>120</td><td>243</td><td>160</td><td>0</td></tr>\n",
       "\t<tr><th scope=row>4</th><td>30</td><td>1</td><td>170</td><td>237</td><td>170</td><td>0</td></tr>\n",
       "\t<tr><th scope=row>⋮</th><td>⋮</td><td>⋮</td><td>⋮</td><td>⋮</td><td>⋮</td><td>⋮</td></tr>\n",
       "\t<tr><th scope=row>292</th><td>56</td><td>4</td><td>155</td><td>342</td><td>150</td><td>1</td></tr>\n",
       "\t<tr><th scope=row>293</th><td>58</td><td>2</td><td>180</td><td>393</td><td>110</td><td>1</td></tr>\n",
       "\t<tr><th scope=row>294</th><td>65</td><td>4</td><td>130</td><td>275</td><td>115</td><td>1</td></tr>\n",
       "</tbody>\n",
       "</table>\n"
      ],
      "text/latex": [
       "A data.frame: 270 × 6\n",
       "\\begin{tabular}{r|llllll}\n",
       "  & age & chest\\_pain\\_type & resting\\_bps & cholestoral & max\\_heartrate & heart\\_disease\\\\\n",
       "  & <int> & <int> & <chr> & <chr> & <chr> & <int>\\\\\n",
       "\\hline\n",
       "\t1 & 28 & 2 & 130 & 132 & 185 & 0\\\\\n",
       "\t2 & 29 & 2 & 120 & 243 & 160 & 0\\\\\n",
       "\t4 & 30 & 1 & 170 & 237 & 170 & 0\\\\\n",
       "\t⋮ & ⋮ & ⋮ & ⋮ & ⋮ & ⋮ & ⋮\\\\\n",
       "\t292 & 56 & 4 & 155 & 342 & 150 & 1\\\\\n",
       "\t293 & 58 & 2 & 180 & 393 & 110 & 1\\\\\n",
       "\t294 & 65 & 4 & 130 & 275 & 115 & 1\\\\\n",
       "\\end{tabular}\n"
      ],
      "text/markdown": [
       "\n",
       "A data.frame: 270 × 6\n",
       "\n",
       "| <!--/--> | age &lt;int&gt; | chest_pain_type &lt;int&gt; | resting_bps &lt;chr&gt; | cholestoral &lt;chr&gt; | max_heartrate &lt;chr&gt; | heart_disease &lt;int&gt; |\n",
       "|---|---|---|---|---|---|---|\n",
       "| 1 | 28 | 2 | 130 | 132 | 185 | 0 |\n",
       "| 2 | 29 | 2 | 120 | 243 | 160 | 0 |\n",
       "| 4 | 30 | 1 | 170 | 237 | 170 | 0 |\n",
       "| ⋮ | ⋮ | ⋮ | ⋮ | ⋮ | ⋮ | ⋮ |\n",
       "| 292 | 56 | 4 | 155 | 342 | 150 | 1 |\n",
       "| 293 | 58 | 2 | 180 | 393 | 110 | 1 |\n",
       "| 294 | 65 | 4 | 130 | 275 | 115 | 1 |\n",
       "\n"
      ],
      "text/plain": [
       "    age chest_pain_type resting_bps cholestoral max_heartrate heart_disease\n",
       "1   28  2               130         132         185           0            \n",
       "2   29  2               120         243         160           0            \n",
       "4   30  1               170         237         170           0            \n",
       "⋮   ⋮   ⋮               ⋮           ⋮           ⋮             ⋮            \n",
       "292 56  4               155         342         150           1            \n",
       "293 58  2               180         393         110           1            \n",
       "294 65  4               130         275         115           1            "
      ]
     },
     "metadata": {},
     "output_type": "display_data"
    },
    {
     "data": {
      "text/html": [
       "<table class=\"dataframe\">\n",
       "<caption>A data.frame: 270 × 6</caption>\n",
       "<thead>\n",
       "\t<tr><th></th><th scope=col>age</th><th scope=col>chest_pain_type</th><th scope=col>resting_bps</th><th scope=col>cholestoral</th><th scope=col>max_heartrate</th><th scope=col>heart_disease</th></tr>\n",
       "\t<tr><th></th><th scope=col>&lt;int&gt;</th><th scope=col>&lt;int&gt;</th><th scope=col>&lt;int&gt;</th><th scope=col>&lt;int&gt;</th><th scope=col>&lt;int&gt;</th><th scope=col>&lt;int&gt;</th></tr>\n",
       "</thead>\n",
       "<tbody>\n",
       "\t<tr><th scope=row>1</th><td>28</td><td>2</td><td>130</td><td>132</td><td>185</td><td>0</td></tr>\n",
       "\t<tr><th scope=row>2</th><td>29</td><td>2</td><td>120</td><td>243</td><td>160</td><td>0</td></tr>\n",
       "\t<tr><th scope=row>4</th><td>30</td><td>1</td><td>170</td><td>237</td><td>170</td><td>0</td></tr>\n",
       "\t<tr><th scope=row>⋮</th><td>⋮</td><td>⋮</td><td>⋮</td><td>⋮</td><td>⋮</td><td>⋮</td></tr>\n",
       "\t<tr><th scope=row>292</th><td>56</td><td>4</td><td>155</td><td>342</td><td>150</td><td>1</td></tr>\n",
       "\t<tr><th scope=row>293</th><td>58</td><td>2</td><td>180</td><td>393</td><td>110</td><td>1</td></tr>\n",
       "\t<tr><th scope=row>294</th><td>65</td><td>4</td><td>130</td><td>275</td><td>115</td><td>1</td></tr>\n",
       "</tbody>\n",
       "</table>\n"
      ],
      "text/latex": [
       "A data.frame: 270 × 6\n",
       "\\begin{tabular}{r|llllll}\n",
       "  & age & chest\\_pain\\_type & resting\\_bps & cholestoral & max\\_heartrate & heart\\_disease\\\\\n",
       "  & <int> & <int> & <int> & <int> & <int> & <int>\\\\\n",
       "\\hline\n",
       "\t1 & 28 & 2 & 130 & 132 & 185 & 0\\\\\n",
       "\t2 & 29 & 2 & 120 & 243 & 160 & 0\\\\\n",
       "\t4 & 30 & 1 & 170 & 237 & 170 & 0\\\\\n",
       "\t⋮ & ⋮ & ⋮ & ⋮ & ⋮ & ⋮ & ⋮\\\\\n",
       "\t292 & 56 & 4 & 155 & 342 & 150 & 1\\\\\n",
       "\t293 & 58 & 2 & 180 & 393 & 110 & 1\\\\\n",
       "\t294 & 65 & 4 & 130 & 275 & 115 & 1\\\\\n",
       "\\end{tabular}\n"
      ],
      "text/markdown": [
       "\n",
       "A data.frame: 270 × 6\n",
       "\n",
       "| <!--/--> | age &lt;int&gt; | chest_pain_type &lt;int&gt; | resting_bps &lt;int&gt; | cholestoral &lt;int&gt; | max_heartrate &lt;int&gt; | heart_disease &lt;int&gt; |\n",
       "|---|---|---|---|---|---|---|\n",
       "| 1 | 28 | 2 | 130 | 132 | 185 | 0 |\n",
       "| 2 | 29 | 2 | 120 | 243 | 160 | 0 |\n",
       "| 4 | 30 | 1 | 170 | 237 | 170 | 0 |\n",
       "| ⋮ | ⋮ | ⋮ | ⋮ | ⋮ | ⋮ | ⋮ |\n",
       "| 292 | 56 | 4 | 155 | 342 | 150 | 1 |\n",
       "| 293 | 58 | 2 | 180 | 393 | 110 | 1 |\n",
       "| 294 | 65 | 4 | 130 | 275 | 115 | 1 |\n",
       "\n"
      ],
      "text/plain": [
       "    age chest_pain_type resting_bps cholestoral max_heartrate heart_disease\n",
       "1   28  2               130         132         185           0            \n",
       "2   29  2               120         243         160           0            \n",
       "4   30  1               170         237         170           0            \n",
       "⋮   ⋮   ⋮               ⋮           ⋮           ⋮             ⋮            \n",
       "292 56  4               155         342         150           1            \n",
       "293 58  2               180         393         110           1            \n",
       "294 65  4               130         275         115           1            "
      ]
     },
     "metadata": {},
     "output_type": "display_data"
    },
    {
     "data": {
      "text/html": [
       "219"
      ],
      "text/latex": [
       "219"
      ],
      "text/markdown": [
       "219"
      ],
      "text/plain": [
       "[1] 219"
      ]
     },
     "metadata": {},
     "output_type": "display_data"
    },
    {
     "data": {
      "text/html": [
       "<table class=\"dataframe\">\n",
       "<caption>A tibble: 4 × 2</caption>\n",
       "<thead>\n",
       "\t<tr><th scope=col>chest_pain_type</th><th scope=col>n</th></tr>\n",
       "\t<tr><th scope=col>&lt;int&gt;</th><th scope=col>&lt;int&gt;</th></tr>\n",
       "</thead>\n",
       "<tbody>\n",
       "\t<tr><td>1</td><td> 7</td></tr>\n",
       "\t<tr><td>2</td><td>80</td></tr>\n",
       "\t<tr><td>3</td><td>40</td></tr>\n",
       "\t<tr><td>4</td><td>92</td></tr>\n",
       "</tbody>\n",
       "</table>\n"
      ],
      "text/latex": [
       "A tibble: 4 × 2\n",
       "\\begin{tabular}{ll}\n",
       " chest\\_pain\\_type & n\\\\\n",
       " <int> & <int>\\\\\n",
       "\\hline\n",
       "\t 1 &  7\\\\\n",
       "\t 2 & 80\\\\\n",
       "\t 3 & 40\\\\\n",
       "\t 4 & 92\\\\\n",
       "\\end{tabular}\n"
      ],
      "text/markdown": [
       "\n",
       "A tibble: 4 × 2\n",
       "\n",
       "| chest_pain_type &lt;int&gt; | n &lt;int&gt; |\n",
       "|---|---|\n",
       "| 1 |  7 |\n",
       "| 2 | 80 |\n",
       "| 3 | 40 |\n",
       "| 4 | 92 |\n",
       "\n"
      ],
      "text/plain": [
       "  chest_pain_type n \n",
       "1 1                7\n",
       "2 2               80\n",
       "3 3               40\n",
       "4 4               92"
      ]
     },
     "metadata": {},
     "output_type": "display_data"
    },
    {
     "data": {
      "text/html": [
       "<table class=\"dataframe\">\n",
       "<caption>A tibble: 1 × 6</caption>\n",
       "<thead>\n",
       "\t<tr><th scope=col>age</th><th scope=col>chest_pain_type</th><th scope=col>resting_bps</th><th scope=col>cholestoral</th><th scope=col>max_heartrate</th><th scope=col>heart_disease</th></tr>\n",
       "\t<tr><th scope=col>&lt;dbl&gt;</th><th scope=col>&lt;dbl&gt;</th><th scope=col>&lt;dbl&gt;</th><th scope=col>&lt;dbl&gt;</th><th scope=col>&lt;dbl&gt;</th><th scope=col>&lt;dbl&gt;</th></tr>\n",
       "</thead>\n",
       "<tbody>\n",
       "\t<tr><td>47.77778</td><td>2.996296</td><td>132.4889</td><td>250.637</td><td>139.1556</td><td>0.3740741</td></tr>\n",
       "</tbody>\n",
       "</table>\n"
      ],
      "text/latex": [
       "A tibble: 1 × 6\n",
       "\\begin{tabular}{llllll}\n",
       " age & chest\\_pain\\_type & resting\\_bps & cholestoral & max\\_heartrate & heart\\_disease\\\\\n",
       " <dbl> & <dbl> & <dbl> & <dbl> & <dbl> & <dbl>\\\\\n",
       "\\hline\n",
       "\t 47.77778 & 2.996296 & 132.4889 & 250.637 & 139.1556 & 0.3740741\\\\\n",
       "\\end{tabular}\n"
      ],
      "text/markdown": [
       "\n",
       "A tibble: 1 × 6\n",
       "\n",
       "| age &lt;dbl&gt; | chest_pain_type &lt;dbl&gt; | resting_bps &lt;dbl&gt; | cholestoral &lt;dbl&gt; | max_heartrate &lt;dbl&gt; | heart_disease &lt;dbl&gt; |\n",
       "|---|---|---|---|---|---|\n",
       "| 47.77778 | 2.996296 | 132.4889 | 250.637 | 139.1556 | 0.3740741 |\n",
       "\n"
      ],
      "text/plain": [
       "  age      chest_pain_type resting_bps cholestoral max_heartrate heart_disease\n",
       "1 47.77778 2.996296        132.4889    250.637     139.1556      0.3740741    "
      ]
     },
     "metadata": {},
     "output_type": "display_data"
    }
   ],
   "source": [
    "#Reading data into notebook \n",
    "\n",
    "hungry <- read.csv(\"data/processed.hungarian.data\", header = FALSE)\n",
    "hungry\n",
    "\n",
    "#Assigning column names\n",
    "colnames(hungry) <- c(\"age\", 'sex', 'chest_pain_type', 'resting_bps', 'cholestoral', 'fasting_blood_sugar', 'rest_ecg', 'max_heartrate', 'excercise_angina', 'depression', 'slope', 'major_vessels', 'thal', 'heart_disease')\n",
    "\n",
    "#removing missing values \n",
    "hungry[hungry == \"?\"] <- NA\n",
    "\n",
    "hungry_no_NA <- hungry |>\n",
    "    select(age, chest_pain_type, resting_bps, cholestoral, max_heartrate, heart_disease) |>\n",
    "    na.omit()\n",
    "hungry_no_NA\n",
    "\n",
    "#Changing the variables into integers\n",
    "hungry_select <- hungry_no_NA |>\n",
    "     mutate( resting_bps = as.integer(resting_bps),cholestoral = as.integer(cholestoral), max_heartrate = as.integer(max_heartrate))\n",
    "hungry_select\n",
    "\n",
    "#Splitting the data sets into training and testing \n",
    "hungry_split <- initial_split(hungry, prop = 3/4, strata = chest_pain_type)\n",
    "hungry_training <- training(hungry_split)\n",
    "hungry_testing <- testing(hungry_split)\n",
    "\n",
    "#Determing the number of rows have missing values\n",
    "hungry_na <- hungry_training |> \n",
    "    select(age, chest_pain_type, resting_bps, cholestoral, max_heartrate, heart_disease) |>\n",
    "    is.na()|>\n",
    "    nrow()\n",
    "hungry_na\n",
    "\n",
    "#Group and Summarize the chest_pain_type\n",
    "hungry_group <- hungry_training |>\n",
    "    group_by(chest_pain_type) |>\n",
    "    summarize(n=n())\n",
    "hungry_group\n",
    "\n",
    "#Determing the means of each predicators' columns\n",
    "hungry_mean <- hungry_select|> \n",
    "        map_df(mean, na.rm = TRUE)\n",
    "hungry_mean\n",
    "\n"
   ]
  },
  {
   "cell_type": "markdown",
   "id": "241fbc1d-8e71-452f-8d3b-732aa22ad33e",
   "metadata": {},
   "source": [
    "In the heart disease dataset we have opted not to utilize sex, fasting blood sugar, resting electrocardiographic results, exercise-induced angina, depression, and thalassemia lack as they lack direct relevance in predicting the type of chest pain. Fasting blood sugar levels reflect metabolic state, but their direct link to specific types of chest pain in heart disease is unclear. Resting electrocardiographic results provides insights into heart function but does not directly correlate with the qualitative aspects of chest pain. Exercise-induced angina, depression, sex and thalassemia do not directly predict the type of chest pain associated as they lack direct physiological links to cardiac symptoms.\n"
   ]
  },
  {
   "cell_type": "code",
   "execution_count": 4,
   "id": "9025a248-3af5-4136-a122-07453e087f43",
   "metadata": {},
   "outputs": [
    {
     "ename": "ERROR",
     "evalue": "Error in stop_if_high_cardinality(data, columns, cardinality_threshold): Column 'resting_bps' has more levels (27) than the threshold (15) allowed.\nPlease remove the column or increase the 'cardinality_threshold' parameter. Increasing the cardinality_threshold may produce long processing times\n",
     "output_type": "error",
     "traceback": [
      "Error in stop_if_high_cardinality(data, columns, cardinality_threshold): Column 'resting_bps' has more levels (27) than the threshold (15) allowed.\nPlease remove the column or increase the 'cardinality_threshold' parameter. Increasing the cardinality_threshold may produce long processing times\nTraceback:\n",
      "1. ggpairs(data_ggpair, aes(color = chest_pain_type, alpha = 0.5))",
      "2. stop_if_high_cardinality(data, columns, cardinality_threshold)",
      "3. stop(\"Column '\", col, \"' has more levels (\", level_length, \")\", \n .     \" than the threshold (\", threshold, \") allowed.\\n\", \"Please remove the column or increase the 'cardinality_threshold' parameter. Increasing the cardinality_threshold may produce long processing times\")"
     ]
    }
   ],
   "source": [
    "#Detemining the correlation between predictors \n",
    "\n",
    "data_ggpair <- hungry_training |>\n",
    "                    select(age, chest_pain_type, resting_bps, cholestoral, max_heartrate, heart_disease)\n",
    "\n",
    "data_ggpair$chest_pain_type = as.factor(data_ggpair$chest_pain_type)\n",
    "\n",
    "plot <- ggpairs(data_ggpair, aes(color = chest_pain_type, alpha = 0.5))\n",
    "\n",
    "plot"
   ]
  },
  {
   "cell_type": "markdown",
   "id": "8730b3ba-b7e0-4035-9463-557c4d1d00f2",
   "metadata": {},
   "source": [
    "If we take a look a closer look at the ggpair graphs we notice interesting correlation with the predictors max heart rate, resting bps, age and cholesterol. For instance, from the histograms we can notice correlations between these predictors and chest pain type where certain predictors are more prominent in types 4 and types 3 and not as common in types 1 and 2. Thus, based on these correlations it would be beneficial to further investigate the role these 4 predictors play on chest pain types by building a knn classification model."
   ]
  },
  {
   "cell_type": "markdown",
   "id": "0148ddaa-0077-46d9-a5c1-a046fdd5e76f",
   "metadata": {},
   "source": [
    "\n",
    "Expected outcomes/significance:\r\n",
    "\n",
    "What do you expect to find\n",
    "?\r\n",
    "Predicting chest pain types in heart disease patients could lead to better diagnosis and care, as well as more targeted interventions and improved long-term outcomes. It may also uncover new insights into the mechanisms behind chest pain, aiding in the discovery of therapeutic targets and predictive markers. \r\n",
    "\r\n",
    "\r\n",
    "What impact could such findings \n",
    "have?\r\n",
    "The findings from predicting chest pain types can lead to more personalized and effective care strategies, benefiting patients across diverse demographics, including those who are non-verbal by optimizing treatment approaches.\r\n",
    "\r\n",
    "\r\n",
    "What future questions could this\n",
    " lead to?\r\n",
    "Understanding how different types of chest pain correlate with specific heart conditions can lead to insights into the underlying mechanisms of various cardiac diseases. Further investigation could focus on developing targeted interventions based on the type of chest pain observed in individual ients. \r\n",
    "\r\n",
    "\n"
   ]
  },
  {
   "cell_type": "code",
   "execution_count": 5,
   "id": "e9963884-3a08-4489-86fd-29b1ec73ba09",
   "metadata": {},
   "outputs": [
    {
     "data": {
      "text/html": [
       "<table class=\"dataframe\">\n",
       "<caption>A data.frame: 294 × 14</caption>\n",
       "<thead>\n",
       "\t<tr><th scope=col>age</th><th scope=col>sex</th><th scope=col>chest_pain_type</th><th scope=col>resting_bps</th><th scope=col>cholestoral</th><th scope=col>fasting_blood_sugar</th><th scope=col>rest_ecg</th><th scope=col>max_heartrate</th><th scope=col>excercise_angina</th><th scope=col>depression</th><th scope=col>slope</th><th scope=col>major_vessels</th><th scope=col>thal</th><th scope=col>heart_disease</th></tr>\n",
       "\t<tr><th scope=col>&lt;int&gt;</th><th scope=col>&lt;int&gt;</th><th scope=col>&lt;int&gt;</th><th scope=col>&lt;chr&gt;</th><th scope=col>&lt;chr&gt;</th><th scope=col>&lt;chr&gt;</th><th scope=col>&lt;chr&gt;</th><th scope=col>&lt;chr&gt;</th><th scope=col>&lt;chr&gt;</th><th scope=col>&lt;dbl&gt;</th><th scope=col>&lt;chr&gt;</th><th scope=col>&lt;chr&gt;</th><th scope=col>&lt;chr&gt;</th><th scope=col>&lt;int&gt;</th></tr>\n",
       "</thead>\n",
       "<tbody>\n",
       "\t<tr><td>28</td><td>1</td><td>2</td><td>130</td><td>132</td><td>0</td><td>2</td><td>185</td><td>0</td><td>0</td><td>NA</td><td>NA</td><td>NA</td><td>0</td></tr>\n",
       "\t<tr><td>29</td><td>1</td><td>2</td><td>120</td><td>243</td><td>0</td><td>0</td><td>160</td><td>0</td><td>0</td><td>NA</td><td>NA</td><td>NA</td><td>0</td></tr>\n",
       "\t<tr><td>29</td><td>1</td><td>2</td><td>140</td><td>NA </td><td>0</td><td>0</td><td>170</td><td>0</td><td>0</td><td>NA</td><td>NA</td><td>NA</td><td>0</td></tr>\n",
       "\t<tr><td>⋮</td><td>⋮</td><td>⋮</td><td>⋮</td><td>⋮</td><td>⋮</td><td>⋮</td><td>⋮</td><td>⋮</td><td>⋮</td><td>⋮</td><td>⋮</td><td>⋮</td><td>⋮</td></tr>\n",
       "\t<tr><td>56</td><td>1</td><td>4</td><td>155</td><td>342</td><td>1</td><td>0</td><td>150</td><td>1</td><td>3</td><td>2</td><td>NA</td><td>NA</td><td>1</td></tr>\n",
       "\t<tr><td>58</td><td>0</td><td>2</td><td>180</td><td>393</td><td>0</td><td>0</td><td>110</td><td>1</td><td>1</td><td>2</td><td>NA</td><td>7 </td><td>1</td></tr>\n",
       "\t<tr><td>65</td><td>1</td><td>4</td><td>130</td><td>275</td><td>0</td><td>1</td><td>115</td><td>1</td><td>1</td><td>2</td><td>NA</td><td>NA</td><td>1</td></tr>\n",
       "</tbody>\n",
       "</table>\n"
      ],
      "text/latex": [
       "A data.frame: 294 × 14\n",
       "\\begin{tabular}{llllllllllllll}\n",
       " age & sex & chest\\_pain\\_type & resting\\_bps & cholestoral & fasting\\_blood\\_sugar & rest\\_ecg & max\\_heartrate & excercise\\_angina & depression & slope & major\\_vessels & thal & heart\\_disease\\\\\n",
       " <int> & <int> & <int> & <chr> & <chr> & <chr> & <chr> & <chr> & <chr> & <dbl> & <chr> & <chr> & <chr> & <int>\\\\\n",
       "\\hline\n",
       "\t 28 & 1 & 2 & 130 & 132 & 0 & 2 & 185 & 0 & 0 & NA & NA & NA & 0\\\\\n",
       "\t 29 & 1 & 2 & 120 & 243 & 0 & 0 & 160 & 0 & 0 & NA & NA & NA & 0\\\\\n",
       "\t 29 & 1 & 2 & 140 & NA  & 0 & 0 & 170 & 0 & 0 & NA & NA & NA & 0\\\\\n",
       "\t ⋮ & ⋮ & ⋮ & ⋮ & ⋮ & ⋮ & ⋮ & ⋮ & ⋮ & ⋮ & ⋮ & ⋮ & ⋮ & ⋮\\\\\n",
       "\t 56 & 1 & 4 & 155 & 342 & 1 & 0 & 150 & 1 & 3 & 2 & NA & NA & 1\\\\\n",
       "\t 58 & 0 & 2 & 180 & 393 & 0 & 0 & 110 & 1 & 1 & 2 & NA & 7  & 1\\\\\n",
       "\t 65 & 1 & 4 & 130 & 275 & 0 & 1 & 115 & 1 & 1 & 2 & NA & NA & 1\\\\\n",
       "\\end{tabular}\n"
      ],
      "text/markdown": [
       "\n",
       "A data.frame: 294 × 14\n",
       "\n",
       "| age &lt;int&gt; | sex &lt;int&gt; | chest_pain_type &lt;int&gt; | resting_bps &lt;chr&gt; | cholestoral &lt;chr&gt; | fasting_blood_sugar &lt;chr&gt; | rest_ecg &lt;chr&gt; | max_heartrate &lt;chr&gt; | excercise_angina &lt;chr&gt; | depression &lt;dbl&gt; | slope &lt;chr&gt; | major_vessels &lt;chr&gt; | thal &lt;chr&gt; | heart_disease &lt;int&gt; |\n",
       "|---|---|---|---|---|---|---|---|---|---|---|---|---|---|\n",
       "| 28 | 1 | 2 | 130 | 132 | 0 | 2 | 185 | 0 | 0 | NA | NA | NA | 0 |\n",
       "| 29 | 1 | 2 | 120 | 243 | 0 | 0 | 160 | 0 | 0 | NA | NA | NA | 0 |\n",
       "| 29 | 1 | 2 | 140 | NA  | 0 | 0 | 170 | 0 | 0 | NA | NA | NA | 0 |\n",
       "| ⋮ | ⋮ | ⋮ | ⋮ | ⋮ | ⋮ | ⋮ | ⋮ | ⋮ | ⋮ | ⋮ | ⋮ | ⋮ | ⋮ |\n",
       "| 56 | 1 | 4 | 155 | 342 | 1 | 0 | 150 | 1 | 3 | 2 | NA | NA | 1 |\n",
       "| 58 | 0 | 2 | 180 | 393 | 0 | 0 | 110 | 1 | 1 | 2 | NA | 7  | 1 |\n",
       "| 65 | 1 | 4 | 130 | 275 | 0 | 1 | 115 | 1 | 1 | 2 | NA | NA | 1 |\n",
       "\n"
      ],
      "text/plain": [
       "    age sex chest_pain_type resting_bps cholestoral fasting_blood_sugar\n",
       "1   28  1   2               130         132         0                  \n",
       "2   29  1   2               120         243         0                  \n",
       "3   29  1   2               140         NA          0                  \n",
       "⋮   ⋮   ⋮   ⋮               ⋮           ⋮           ⋮                  \n",
       "292 56  1   4               155         342         1                  \n",
       "293 58  0   2               180         393         0                  \n",
       "294 65  1   4               130         275         0                  \n",
       "    rest_ecg max_heartrate excercise_angina depression slope major_vessels thal\n",
       "1   2        185           0                0          NA    NA            NA  \n",
       "2   0        160           0                0          NA    NA            NA  \n",
       "3   0        170           0                0          NA    NA            NA  \n",
       "⋮   ⋮        ⋮             ⋮                ⋮          ⋮     ⋮             ⋮   \n",
       "292 0        150           1                3          2     NA            NA  \n",
       "293 0        110           1                1          2     NA            7   \n",
       "294 1        115           1                1          2     NA            NA  \n",
       "    heart_disease\n",
       "1   0            \n",
       "2   0            \n",
       "3   0            \n",
       "⋮   ⋮            \n",
       "292 1            \n",
       "293 1            \n",
       "294 1            "
      ]
     },
     "metadata": {},
     "output_type": "display_data"
    },
    {
     "name": "stderr",
     "output_type": "stream",
     "text": [
      "\u001b[1mRows: \u001b[22m\u001b[34m294\u001b[39m \u001b[1mColumns: \u001b[22m\u001b[34m14\u001b[39m\n",
      "\u001b[36m──\u001b[39m \u001b[1mColumn specification\u001b[22m \u001b[36m────────────────────────────────────────────────────────\u001b[39m\n",
      "\u001b[1mDelimiter:\u001b[22m \",\"\n",
      "\u001b[31mchr\u001b[39m (9): resting_bps, cholestoral, fasting_blood_sugar, rest_ecg, max_heartr...\n",
      "\u001b[32mdbl\u001b[39m (5): age, sex, chest_pain_type, depression, heart_disease\n",
      "\n",
      "\u001b[36mℹ\u001b[39m Use `spec()` to retrieve the full column specification for this data.\n",
      "\u001b[36mℹ\u001b[39m Specify the column types or set `show_col_types = FALSE` to quiet this message.\n"
     ]
    }
   ],
   "source": [
    "\n",
    "url <- \"https://raw.githubusercontent.com/Kalpashree10/Group-Project/main/data/processed.hungarian.data\"\n",
    "\n",
    "hungry\n",
    "hungry <- read_csv(url, col_names = c(\"age\", 'sex', 'chest_pain_type', 'resting_bps', 'cholestoral', 'fasting_blood_sugar', 'rest_ecg', 'max_heartrate', 'excercise_angina', 'depression', 'slope', 'major_vessels', 'thal', 'heart_disease'))\n"
   ]
  },
  {
   "cell_type": "code",
   "execution_count": 22,
   "id": "ecf18251-4638-40b4-bb12-82a9f02ee073",
   "metadata": {},
   "outputs": [
    {
     "data": {
      "text/html": [
       "220"
      ],
      "text/latex": [
       "220"
      ],
      "text/markdown": [
       "220"
      ],
      "text/plain": [
       "[1] 220"
      ]
     },
     "metadata": {},
     "output_type": "display_data"
    },
    {
     "data": {
      "text/html": [
       "<table class=\"dataframe\">\n",
       "<caption>A data.frame: 270 × 6</caption>\n",
       "<thead>\n",
       "\t<tr><th></th><th scope=col>age</th><th scope=col>chest_pain_type</th><th scope=col>resting_bps</th><th scope=col>cholestoral</th><th scope=col>max_heartrate</th><th scope=col>heart_disease</th></tr>\n",
       "\t<tr><th></th><th scope=col>&lt;int&gt;</th><th scope=col>&lt;int&gt;</th><th scope=col>&lt;chr&gt;</th><th scope=col>&lt;chr&gt;</th><th scope=col>&lt;chr&gt;</th><th scope=col>&lt;int&gt;</th></tr>\n",
       "</thead>\n",
       "<tbody>\n",
       "\t<tr><th scope=row>1</th><td>28</td><td>2</td><td>130</td><td>132</td><td>185</td><td>0</td></tr>\n",
       "\t<tr><th scope=row>2</th><td>29</td><td>2</td><td>120</td><td>243</td><td>160</td><td>0</td></tr>\n",
       "\t<tr><th scope=row>4</th><td>30</td><td>1</td><td>170</td><td>237</td><td>170</td><td>0</td></tr>\n",
       "\t<tr><th scope=row>⋮</th><td>⋮</td><td>⋮</td><td>⋮</td><td>⋮</td><td>⋮</td><td>⋮</td></tr>\n",
       "\t<tr><th scope=row>292</th><td>56</td><td>4</td><td>155</td><td>342</td><td>150</td><td>1</td></tr>\n",
       "\t<tr><th scope=row>293</th><td>58</td><td>2</td><td>180</td><td>393</td><td>110</td><td>1</td></tr>\n",
       "\t<tr><th scope=row>294</th><td>65</td><td>4</td><td>130</td><td>275</td><td>115</td><td>1</td></tr>\n",
       "</tbody>\n",
       "</table>\n"
      ],
      "text/latex": [
       "A data.frame: 270 × 6\n",
       "\\begin{tabular}{r|llllll}\n",
       "  & age & chest\\_pain\\_type & resting\\_bps & cholestoral & max\\_heartrate & heart\\_disease\\\\\n",
       "  & <int> & <int> & <chr> & <chr> & <chr> & <int>\\\\\n",
       "\\hline\n",
       "\t1 & 28 & 2 & 130 & 132 & 185 & 0\\\\\n",
       "\t2 & 29 & 2 & 120 & 243 & 160 & 0\\\\\n",
       "\t4 & 30 & 1 & 170 & 237 & 170 & 0\\\\\n",
       "\t⋮ & ⋮ & ⋮ & ⋮ & ⋮ & ⋮ & ⋮\\\\\n",
       "\t292 & 56 & 4 & 155 & 342 & 150 & 1\\\\\n",
       "\t293 & 58 & 2 & 180 & 393 & 110 & 1\\\\\n",
       "\t294 & 65 & 4 & 130 & 275 & 115 & 1\\\\\n",
       "\\end{tabular}\n"
      ],
      "text/markdown": [
       "\n",
       "A data.frame: 270 × 6\n",
       "\n",
       "| <!--/--> | age &lt;int&gt; | chest_pain_type &lt;int&gt; | resting_bps &lt;chr&gt; | cholestoral &lt;chr&gt; | max_heartrate &lt;chr&gt; | heart_disease &lt;int&gt; |\n",
       "|---|---|---|---|---|---|---|\n",
       "| 1 | 28 | 2 | 130 | 132 | 185 | 0 |\n",
       "| 2 | 29 | 2 | 120 | 243 | 160 | 0 |\n",
       "| 4 | 30 | 1 | 170 | 237 | 170 | 0 |\n",
       "| ⋮ | ⋮ | ⋮ | ⋮ | ⋮ | ⋮ | ⋮ |\n",
       "| 292 | 56 | 4 | 155 | 342 | 150 | 1 |\n",
       "| 293 | 58 | 2 | 180 | 393 | 110 | 1 |\n",
       "| 294 | 65 | 4 | 130 | 275 | 115 | 1 |\n",
       "\n"
      ],
      "text/plain": [
       "    age chest_pain_type resting_bps cholestoral max_heartrate heart_disease\n",
       "1   28  2               130         132         185           0            \n",
       "2   29  2               120         243         160           0            \n",
       "4   30  1               170         237         170           0            \n",
       "⋮   ⋮   ⋮               ⋮           ⋮           ⋮             ⋮            \n",
       "292 56  4               155         342         150           1            \n",
       "293 58  2               180         393         110           1            \n",
       "294 65  4               130         275         115           1            "
      ]
     },
     "metadata": {},
     "output_type": "display_data"
    },
    {
     "data": {
      "text/html": [
       "<table class=\"dataframe\">\n",
       "<caption>A tibble: 1 × 6</caption>\n",
       "<thead>\n",
       "\t<tr><th scope=col>age</th><th scope=col>chest_pain_type</th><th scope=col>resting_bps</th><th scope=col>cholestoral</th><th scope=col>max_heartrate</th><th scope=col>heart_disease</th></tr>\n",
       "\t<tr><th scope=col>&lt;int&gt;</th><th scope=col>&lt;int&gt;</th><th scope=col>&lt;int&gt;</th><th scope=col>&lt;int&gt;</th><th scope=col>&lt;int&gt;</th><th scope=col>&lt;int&gt;</th></tr>\n",
       "</thead>\n",
       "<tbody>\n",
       "\t<tr><td>0</td><td>0</td><td>0</td><td>0</td><td>0</td><td>0</td></tr>\n",
       "</tbody>\n",
       "</table>\n"
      ],
      "text/latex": [
       "A tibble: 1 × 6\n",
       "\\begin{tabular}{llllll}\n",
       " age & chest\\_pain\\_type & resting\\_bps & cholestoral & max\\_heartrate & heart\\_disease\\\\\n",
       " <int> & <int> & <int> & <int> & <int> & <int>\\\\\n",
       "\\hline\n",
       "\t 0 & 0 & 0 & 0 & 0 & 0\\\\\n",
       "\\end{tabular}\n"
      ],
      "text/markdown": [
       "\n",
       "A tibble: 1 × 6\n",
       "\n",
       "| age &lt;int&gt; | chest_pain_type &lt;int&gt; | resting_bps &lt;int&gt; | cholestoral &lt;int&gt; | max_heartrate &lt;int&gt; | heart_disease &lt;int&gt; |\n",
       "|---|---|---|---|---|---|\n",
       "| 0 | 0 | 0 | 0 | 0 | 0 |\n",
       "\n"
      ],
      "text/plain": [
       "  age chest_pain_type resting_bps cholestoral max_heartrate heart_disease\n",
       "1 0   0               0           0           0             0            "
      ]
     },
     "metadata": {},
     "output_type": "display_data"
    }
   ],
   "source": [
    "#Determing the number of rows have missing values\n",
    "hungry_na <- hungry_training |> \n",
    "    select(age, chest_pain_type, resting_bps, cholestoral, max_heartrate, heart_disease) |>\n",
    "    is.na()|>\n",
    "    nrow()\n",
    "hungry_na\n",
    "\n",
    "#removing the NA values\n",
    "\n",
    "hungry_no_NA <- hungry |>\n",
    "    select(age, chest_pain_type, resting_bps, cholestoral, max_heartrate, heart_disease) |>\n",
    "    na.omit()\n",
    "hungry_no_NA\n",
    "\n",
    "#Checking if any NA values remain after removal\n",
    "check <- hungry_no_NA |>\n",
    "            map_df(~sum(is.na(.x)))\n",
    "check"
   ]
  },
  {
   "cell_type": "code",
   "execution_count": 10,
   "id": "43d78d89-3d9e-4c5b-8de1-1eb4002aab9b",
   "metadata": {},
   "outputs": [
    {
     "data": {
      "text/html": [
       "<table class=\"dataframe\">\n",
       "<caption>A data.frame: 270 × 6</caption>\n",
       "<thead>\n",
       "\t<tr><th></th><th scope=col>age</th><th scope=col>chest_pain_type</th><th scope=col>resting_bps</th><th scope=col>cholestoral</th><th scope=col>max_heartrate</th><th scope=col>heart_disease</th></tr>\n",
       "\t<tr><th></th><th scope=col>&lt;int&gt;</th><th scope=col>&lt;int&gt;</th><th scope=col>&lt;int&gt;</th><th scope=col>&lt;int&gt;</th><th scope=col>&lt;int&gt;</th><th scope=col>&lt;int&gt;</th></tr>\n",
       "</thead>\n",
       "<tbody>\n",
       "\t<tr><th scope=row>1</th><td>28</td><td>2</td><td>130</td><td>132</td><td>185</td><td>0</td></tr>\n",
       "\t<tr><th scope=row>2</th><td>29</td><td>2</td><td>120</td><td>243</td><td>160</td><td>0</td></tr>\n",
       "\t<tr><th scope=row>4</th><td>30</td><td>1</td><td>170</td><td>237</td><td>170</td><td>0</td></tr>\n",
       "\t<tr><th scope=row>⋮</th><td>⋮</td><td>⋮</td><td>⋮</td><td>⋮</td><td>⋮</td><td>⋮</td></tr>\n",
       "\t<tr><th scope=row>292</th><td>56</td><td>4</td><td>155</td><td>342</td><td>150</td><td>1</td></tr>\n",
       "\t<tr><th scope=row>293</th><td>58</td><td>2</td><td>180</td><td>393</td><td>110</td><td>1</td></tr>\n",
       "\t<tr><th scope=row>294</th><td>65</td><td>4</td><td>130</td><td>275</td><td>115</td><td>1</td></tr>\n",
       "</tbody>\n",
       "</table>\n"
      ],
      "text/latex": [
       "A data.frame: 270 × 6\n",
       "\\begin{tabular}{r|llllll}\n",
       "  & age & chest\\_pain\\_type & resting\\_bps & cholestoral & max\\_heartrate & heart\\_disease\\\\\n",
       "  & <int> & <int> & <int> & <int> & <int> & <int>\\\\\n",
       "\\hline\n",
       "\t1 & 28 & 2 & 130 & 132 & 185 & 0\\\\\n",
       "\t2 & 29 & 2 & 120 & 243 & 160 & 0\\\\\n",
       "\t4 & 30 & 1 & 170 & 237 & 170 & 0\\\\\n",
       "\t⋮ & ⋮ & ⋮ & ⋮ & ⋮ & ⋮ & ⋮\\\\\n",
       "\t292 & 56 & 4 & 155 & 342 & 150 & 1\\\\\n",
       "\t293 & 58 & 2 & 180 & 393 & 110 & 1\\\\\n",
       "\t294 & 65 & 4 & 130 & 275 & 115 & 1\\\\\n",
       "\\end{tabular}\n"
      ],
      "text/markdown": [
       "\n",
       "A data.frame: 270 × 6\n",
       "\n",
       "| <!--/--> | age &lt;int&gt; | chest_pain_type &lt;int&gt; | resting_bps &lt;int&gt; | cholestoral &lt;int&gt; | max_heartrate &lt;int&gt; | heart_disease &lt;int&gt; |\n",
       "|---|---|---|---|---|---|---|\n",
       "| 1 | 28 | 2 | 130 | 132 | 185 | 0 |\n",
       "| 2 | 29 | 2 | 120 | 243 | 160 | 0 |\n",
       "| 4 | 30 | 1 | 170 | 237 | 170 | 0 |\n",
       "| ⋮ | ⋮ | ⋮ | ⋮ | ⋮ | ⋮ | ⋮ |\n",
       "| 292 | 56 | 4 | 155 | 342 | 150 | 1 |\n",
       "| 293 | 58 | 2 | 180 | 393 | 110 | 1 |\n",
       "| 294 | 65 | 4 | 130 | 275 | 115 | 1 |\n",
       "\n"
      ],
      "text/plain": [
       "    age chest_pain_type resting_bps cholestoral max_heartrate heart_disease\n",
       "1   28  2               130         132         185           0            \n",
       "2   29  2               120         243         160           0            \n",
       "4   30  1               170         237         170           0            \n",
       "⋮   ⋮   ⋮               ⋮           ⋮           ⋮             ⋮            \n",
       "292 56  4               155         342         150           1            \n",
       "293 58  2               180         393         110           1            \n",
       "294 65  4               130         275         115           1            "
      ]
     },
     "metadata": {},
     "output_type": "display_data"
    }
   ],
   "source": [
    "#Changing the variables into integers\n",
    "hungry_select <- hungry_no_NA |>\n",
    "     mutate( resting_bps = as.integer(resting_bps),cholestoral = as.integer(cholestoral), max_heartrate = as.integer(max_heartrate))\n",
    "hungry_select"
   ]
  },
  {
   "cell_type": "code",
   "execution_count": 13,
   "id": "1aaef1fa-d5cd-4cc2-9f86-78d4b92084bd",
   "metadata": {},
   "outputs": [
    {
     "data": {
      "text/html": [
       "<table class=\"dataframe\">\n",
       "<caption>A data.frame: 220 × 14</caption>\n",
       "<thead>\n",
       "\t<tr><th scope=col>age</th><th scope=col>sex</th><th scope=col>chest_pain_type</th><th scope=col>resting_bps</th><th scope=col>cholestoral</th><th scope=col>fasting_blood_sugar</th><th scope=col>rest_ecg</th><th scope=col>max_heartrate</th><th scope=col>excercise_angina</th><th scope=col>depression</th><th scope=col>slope</th><th scope=col>major_vessels</th><th scope=col>thal</th><th scope=col>heart_disease</th></tr>\n",
       "\t<tr><th scope=col>&lt;int&gt;</th><th scope=col>&lt;int&gt;</th><th scope=col>&lt;int&gt;</th><th scope=col>&lt;chr&gt;</th><th scope=col>&lt;chr&gt;</th><th scope=col>&lt;chr&gt;</th><th scope=col>&lt;chr&gt;</th><th scope=col>&lt;chr&gt;</th><th scope=col>&lt;chr&gt;</th><th scope=col>&lt;dbl&gt;</th><th scope=col>&lt;chr&gt;</th><th scope=col>&lt;chr&gt;</th><th scope=col>&lt;chr&gt;</th><th scope=col>&lt;int&gt;</th></tr>\n",
       "</thead>\n",
       "<tbody>\n",
       "\t<tr><td>29</td><td>1</td><td>2</td><td>120</td><td>243</td><td>0</td><td>0</td><td>160</td><td>0</td><td>0</td><td>NA</td><td>NA</td><td>NA</td><td>0</td></tr>\n",
       "\t<tr><td>32</td><td>0</td><td>2</td><td>105</td><td>198</td><td>0</td><td>0</td><td>165</td><td>0</td><td>0</td><td>NA</td><td>NA</td><td>NA</td><td>0</td></tr>\n",
       "\t<tr><td>32</td><td>1</td><td>2</td><td>110</td><td>225</td><td>0</td><td>0</td><td>184</td><td>0</td><td>0</td><td>NA</td><td>NA</td><td>NA</td><td>0</td></tr>\n",
       "\t<tr><td>⋮</td><td>⋮</td><td>⋮</td><td>⋮</td><td>⋮</td><td>⋮</td><td>⋮</td><td>⋮</td><td>⋮</td><td>⋮</td><td>⋮</td><td>⋮</td><td>⋮</td><td>⋮</td></tr>\n",
       "\t<tr><td>52</td><td>1</td><td>4</td><td>160</td><td>331</td><td>0</td><td>0</td><td>94 </td><td>1</td><td>2.5</td><td>NA</td><td>NA</td><td>NA</td><td>1</td></tr>\n",
       "\t<tr><td>56</td><td>1</td><td>4</td><td>155</td><td>342</td><td>1</td><td>0</td><td>150</td><td>1</td><td>3.0</td><td>2 </td><td>NA</td><td>NA</td><td>1</td></tr>\n",
       "\t<tr><td>65</td><td>1</td><td>4</td><td>130</td><td>275</td><td>0</td><td>1</td><td>115</td><td>1</td><td>1.0</td><td>2 </td><td>NA</td><td>NA</td><td>1</td></tr>\n",
       "</tbody>\n",
       "</table>\n"
      ],
      "text/latex": [
       "A data.frame: 220 × 14\n",
       "\\begin{tabular}{llllllllllllll}\n",
       " age & sex & chest\\_pain\\_type & resting\\_bps & cholestoral & fasting\\_blood\\_sugar & rest\\_ecg & max\\_heartrate & excercise\\_angina & depression & slope & major\\_vessels & thal & heart\\_disease\\\\\n",
       " <int> & <int> & <int> & <chr> & <chr> & <chr> & <chr> & <chr> & <chr> & <dbl> & <chr> & <chr> & <chr> & <int>\\\\\n",
       "\\hline\n",
       "\t 29 & 1 & 2 & 120 & 243 & 0 & 0 & 160 & 0 & 0 & NA & NA & NA & 0\\\\\n",
       "\t 32 & 0 & 2 & 105 & 198 & 0 & 0 & 165 & 0 & 0 & NA & NA & NA & 0\\\\\n",
       "\t 32 & 1 & 2 & 110 & 225 & 0 & 0 & 184 & 0 & 0 & NA & NA & NA & 0\\\\\n",
       "\t ⋮ & ⋮ & ⋮ & ⋮ & ⋮ & ⋮ & ⋮ & ⋮ & ⋮ & ⋮ & ⋮ & ⋮ & ⋮ & ⋮\\\\\n",
       "\t 52 & 1 & 4 & 160 & 331 & 0 & 0 & 94  & 1 & 2.5 & NA & NA & NA & 1\\\\\n",
       "\t 56 & 1 & 4 & 155 & 342 & 1 & 0 & 150 & 1 & 3.0 & 2  & NA & NA & 1\\\\\n",
       "\t 65 & 1 & 4 & 130 & 275 & 0 & 1 & 115 & 1 & 1.0 & 2  & NA & NA & 1\\\\\n",
       "\\end{tabular}\n"
      ],
      "text/markdown": [
       "\n",
       "A data.frame: 220 × 14\n",
       "\n",
       "| age &lt;int&gt; | sex &lt;int&gt; | chest_pain_type &lt;int&gt; | resting_bps &lt;chr&gt; | cholestoral &lt;chr&gt; | fasting_blood_sugar &lt;chr&gt; | rest_ecg &lt;chr&gt; | max_heartrate &lt;chr&gt; | excercise_angina &lt;chr&gt; | depression &lt;dbl&gt; | slope &lt;chr&gt; | major_vessels &lt;chr&gt; | thal &lt;chr&gt; | heart_disease &lt;int&gt; |\n",
       "|---|---|---|---|---|---|---|---|---|---|---|---|---|---|\n",
       "| 29 | 1 | 2 | 120 | 243 | 0 | 0 | 160 | 0 | 0 | NA | NA | NA | 0 |\n",
       "| 32 | 0 | 2 | 105 | 198 | 0 | 0 | 165 | 0 | 0 | NA | NA | NA | 0 |\n",
       "| 32 | 1 | 2 | 110 | 225 | 0 | 0 | 184 | 0 | 0 | NA | NA | NA | 0 |\n",
       "| ⋮ | ⋮ | ⋮ | ⋮ | ⋮ | ⋮ | ⋮ | ⋮ | ⋮ | ⋮ | ⋮ | ⋮ | ⋮ | ⋮ |\n",
       "| 52 | 1 | 4 | 160 | 331 | 0 | 0 | 94  | 1 | 2.5 | NA | NA | NA | 1 |\n",
       "| 56 | 1 | 4 | 155 | 342 | 1 | 0 | 150 | 1 | 3.0 | 2  | NA | NA | 1 |\n",
       "| 65 | 1 | 4 | 130 | 275 | 0 | 1 | 115 | 1 | 1.0 | 2  | NA | NA | 1 |\n",
       "\n"
      ],
      "text/plain": [
       "    age sex chest_pain_type resting_bps cholestoral fasting_blood_sugar\n",
       "1   29  1   2               120         243         0                  \n",
       "2   32  0   2               105         198         0                  \n",
       "3   32  1   2               110         225         0                  \n",
       "⋮   ⋮   ⋮   ⋮               ⋮           ⋮           ⋮                  \n",
       "218 52  1   4               160         331         0                  \n",
       "219 56  1   4               155         342         1                  \n",
       "220 65  1   4               130         275         0                  \n",
       "    rest_ecg max_heartrate excercise_angina depression slope major_vessels thal\n",
       "1   0        160           0                0          NA    NA            NA  \n",
       "2   0        165           0                0          NA    NA            NA  \n",
       "3   0        184           0                0          NA    NA            NA  \n",
       "⋮   ⋮        ⋮             ⋮                ⋮          ⋮     ⋮             ⋮   \n",
       "218 0        94            1                2.5        NA    NA            NA  \n",
       "219 0        150           1                3.0        2     NA            NA  \n",
       "220 1        115           1                1.0        2     NA            NA  \n",
       "    heart_disease\n",
       "1   0            \n",
       "2   0            \n",
       "3   0            \n",
       "⋮   ⋮            \n",
       "218 1            \n",
       "219 1            \n",
       "220 1            "
      ]
     },
     "metadata": {},
     "output_type": "display_data"
    },
    {
     "data": {
      "text/html": [
       "<table class=\"dataframe\">\n",
       "<caption>A data.frame: 74 × 14</caption>\n",
       "<thead>\n",
       "\t<tr><th scope=col>age</th><th scope=col>sex</th><th scope=col>chest_pain_type</th><th scope=col>resting_bps</th><th scope=col>cholestoral</th><th scope=col>fasting_blood_sugar</th><th scope=col>rest_ecg</th><th scope=col>max_heartrate</th><th scope=col>excercise_angina</th><th scope=col>depression</th><th scope=col>slope</th><th scope=col>major_vessels</th><th scope=col>thal</th><th scope=col>heart_disease</th></tr>\n",
       "\t<tr><th scope=col>&lt;int&gt;</th><th scope=col>&lt;int&gt;</th><th scope=col>&lt;int&gt;</th><th scope=col>&lt;chr&gt;</th><th scope=col>&lt;chr&gt;</th><th scope=col>&lt;chr&gt;</th><th scope=col>&lt;chr&gt;</th><th scope=col>&lt;chr&gt;</th><th scope=col>&lt;chr&gt;</th><th scope=col>&lt;dbl&gt;</th><th scope=col>&lt;chr&gt;</th><th scope=col>&lt;chr&gt;</th><th scope=col>&lt;chr&gt;</th><th scope=col>&lt;int&gt;</th></tr>\n",
       "</thead>\n",
       "<tbody>\n",
       "\t<tr><td>28</td><td>1</td><td>2</td><td>130</td><td>132</td><td>0</td><td>2</td><td>185</td><td>0</td><td>0</td><td>NA</td><td>NA</td><td>NA</td><td>0</td></tr>\n",
       "\t<tr><td>29</td><td>1</td><td>2</td><td>140</td><td>NA </td><td>0</td><td>0</td><td>170</td><td>0</td><td>0</td><td>NA</td><td>NA</td><td>NA</td><td>0</td></tr>\n",
       "\t<tr><td>31</td><td>0</td><td>2</td><td>100</td><td>219</td><td>0</td><td>1</td><td>150</td><td>0</td><td>0</td><td>NA</td><td>NA</td><td>NA</td><td>0</td></tr>\n",
       "\t<tr><td>⋮</td><td>⋮</td><td>⋮</td><td>⋮</td><td>⋮</td><td>⋮</td><td>⋮</td><td>⋮</td><td>⋮</td><td>⋮</td><td>⋮</td><td>⋮</td><td>⋮</td><td>⋮</td></tr>\n",
       "\t<tr><td>49</td><td>1</td><td>4</td><td>150</td><td>222</td><td>0</td><td>0</td><td>122</td><td>0</td><td>2</td><td>2</td><td>NA</td><td>NA</td><td>1</td></tr>\n",
       "\t<tr><td>54</td><td>0</td><td>3</td><td>130</td><td>294</td><td>0</td><td>1</td><td>100</td><td>1</td><td>0</td><td>2</td><td>NA</td><td>NA</td><td>1</td></tr>\n",
       "\t<tr><td>58</td><td>0</td><td>2</td><td>180</td><td>393</td><td>0</td><td>0</td><td>110</td><td>1</td><td>1</td><td>2</td><td>NA</td><td>7 </td><td>1</td></tr>\n",
       "</tbody>\n",
       "</table>\n"
      ],
      "text/latex": [
       "A data.frame: 74 × 14\n",
       "\\begin{tabular}{llllllllllllll}\n",
       " age & sex & chest\\_pain\\_type & resting\\_bps & cholestoral & fasting\\_blood\\_sugar & rest\\_ecg & max\\_heartrate & excercise\\_angina & depression & slope & major\\_vessels & thal & heart\\_disease\\\\\n",
       " <int> & <int> & <int> & <chr> & <chr> & <chr> & <chr> & <chr> & <chr> & <dbl> & <chr> & <chr> & <chr> & <int>\\\\\n",
       "\\hline\n",
       "\t 28 & 1 & 2 & 130 & 132 & 0 & 2 & 185 & 0 & 0 & NA & NA & NA & 0\\\\\n",
       "\t 29 & 1 & 2 & 140 & NA  & 0 & 0 & 170 & 0 & 0 & NA & NA & NA & 0\\\\\n",
       "\t 31 & 0 & 2 & 100 & 219 & 0 & 1 & 150 & 0 & 0 & NA & NA & NA & 0\\\\\n",
       "\t ⋮ & ⋮ & ⋮ & ⋮ & ⋮ & ⋮ & ⋮ & ⋮ & ⋮ & ⋮ & ⋮ & ⋮ & ⋮ & ⋮\\\\\n",
       "\t 49 & 1 & 4 & 150 & 222 & 0 & 0 & 122 & 0 & 2 & 2 & NA & NA & 1\\\\\n",
       "\t 54 & 0 & 3 & 130 & 294 & 0 & 1 & 100 & 1 & 0 & 2 & NA & NA & 1\\\\\n",
       "\t 58 & 0 & 2 & 180 & 393 & 0 & 0 & 110 & 1 & 1 & 2 & NA & 7  & 1\\\\\n",
       "\\end{tabular}\n"
      ],
      "text/markdown": [
       "\n",
       "A data.frame: 74 × 14\n",
       "\n",
       "| age &lt;int&gt; | sex &lt;int&gt; | chest_pain_type &lt;int&gt; | resting_bps &lt;chr&gt; | cholestoral &lt;chr&gt; | fasting_blood_sugar &lt;chr&gt; | rest_ecg &lt;chr&gt; | max_heartrate &lt;chr&gt; | excercise_angina &lt;chr&gt; | depression &lt;dbl&gt; | slope &lt;chr&gt; | major_vessels &lt;chr&gt; | thal &lt;chr&gt; | heart_disease &lt;int&gt; |\n",
       "|---|---|---|---|---|---|---|---|---|---|---|---|---|---|\n",
       "| 28 | 1 | 2 | 130 | 132 | 0 | 2 | 185 | 0 | 0 | NA | NA | NA | 0 |\n",
       "| 29 | 1 | 2 | 140 | NA  | 0 | 0 | 170 | 0 | 0 | NA | NA | NA | 0 |\n",
       "| 31 | 0 | 2 | 100 | 219 | 0 | 1 | 150 | 0 | 0 | NA | NA | NA | 0 |\n",
       "| ⋮ | ⋮ | ⋮ | ⋮ | ⋮ | ⋮ | ⋮ | ⋮ | ⋮ | ⋮ | ⋮ | ⋮ | ⋮ | ⋮ |\n",
       "| 49 | 1 | 4 | 150 | 222 | 0 | 0 | 122 | 0 | 2 | 2 | NA | NA | 1 |\n",
       "| 54 | 0 | 3 | 130 | 294 | 0 | 1 | 100 | 1 | 0 | 2 | NA | NA | 1 |\n",
       "| 58 | 0 | 2 | 180 | 393 | 0 | 0 | 110 | 1 | 1 | 2 | NA | 7  | 1 |\n",
       "\n"
      ],
      "text/plain": [
       "   age sex chest_pain_type resting_bps cholestoral fasting_blood_sugar rest_ecg\n",
       "1  28  1   2               130         132         0                   2       \n",
       "2  29  1   2               140         NA          0                   0       \n",
       "3  31  0   2               100         219         0                   1       \n",
       "⋮  ⋮   ⋮   ⋮               ⋮           ⋮           ⋮                   ⋮       \n",
       "72 49  1   4               150         222         0                   0       \n",
       "73 54  0   3               130         294         0                   1       \n",
       "74 58  0   2               180         393         0                   0       \n",
       "   max_heartrate excercise_angina depression slope major_vessels thal\n",
       "1  185           0                0          NA    NA            NA  \n",
       "2  170           0                0          NA    NA            NA  \n",
       "3  150           0                0          NA    NA            NA  \n",
       "⋮  ⋮             ⋮                ⋮          ⋮     ⋮             ⋮   \n",
       "72 122           0                2          2     NA            NA  \n",
       "73 100           1                0          2     NA            NA  \n",
       "74 110           1                1          2     NA            7   \n",
       "   heart_disease\n",
       "1  0            \n",
       "2  0            \n",
       "3  0            \n",
       "⋮  ⋮            \n",
       "72 1            \n",
       "73 1            \n",
       "74 1            "
      ]
     },
     "metadata": {},
     "output_type": "display_data"
    }
   ],
   "source": [
    "#Splitting the data sets into training and testing \n",
    "hungry_split <- initial_split(hungry, prop = 3/4, strata = chest_pain_type)\n",
    "hungry_training <- training(hungry_split)\n",
    "hungry_testing <- testing(hungry_split)\n",
    "\n",
    "\n",
    "hungry_training\n",
    "hungry_testing"
   ]
  },
  {
   "cell_type": "code",
   "execution_count": null,
   "id": "e347d9b2-51c5-48ef-bbbc-377dd23bcfb1",
   "metadata": {},
   "outputs": [],
   "source": []
  }
 ],
 "metadata": {
  "kernelspec": {
   "display_name": "R",
   "language": "R",
   "name": "ir"
  },
  "language_info": {
   "codemirror_mode": "r",
   "file_extension": ".r",
   "mimetype": "text/x-r-source",
   "name": "R",
   "pygments_lexer": "r",
   "version": "4.3.1"
  }
 },
 "nbformat": 4,
 "nbformat_minor": 5
}
