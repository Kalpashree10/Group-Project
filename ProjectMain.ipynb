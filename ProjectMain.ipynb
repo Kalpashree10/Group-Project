{
 "cells": [
  {
   "cell_type": "code",
   "execution_count": 15,
   "id": "437df2fe-628f-4244-b8d3-55d30927b319",
   "metadata": {},
   "outputs": [],
   "source": [
    "# library(tidyverse)\n",
    "# library(repr)\n",
    "# #library(readxl)\n",
    "# library(tidymodels)\n",
    "# #library(ggplot2)\n",
    "# #install.packages(\"ggplot2\")\n",
    "\n",
    "library(tidyverse)\n",
    "library(repr)\n",
    "library(tidymodels)\n",
    "library(rsample)\n",
    "options(repr.matrix.max.rows = 6)"
   ]
  },
  {
   "cell_type": "code",
   "execution_count": 19,
   "id": "a6650c9a-7e4a-47c2-9641-b2a9ddb6c3d6",
   "metadata": {},
   "outputs": [
    {
     "data": {
      "text/html": [
       "<table class=\"dataframe\">\n",
       "<caption>A data.frame: 219 × 14</caption>\n",
       "<thead>\n",
       "\t<tr><th scope=col>age</th><th scope=col>sex</th><th scope=col>chest_pain_type</th><th scope=col>resting_bps</th><th scope=col>cholestoral</th><th scope=col>fasting_blood_sugar</th><th scope=col>rest_ecg</th><th scope=col>max_heartrate</th><th scope=col>excercise_angina</th><th scope=col>depression</th><th scope=col>slope</th><th scope=col>major_vessels</th><th scope=col>thal</th><th scope=col>heart_disease</th></tr>\n",
       "\t<tr><th scope=col>&lt;int&gt;</th><th scope=col>&lt;int&gt;</th><th scope=col>&lt;int&gt;</th><th scope=col>&lt;chr&gt;</th><th scope=col>&lt;chr&gt;</th><th scope=col>&lt;chr&gt;</th><th scope=col>&lt;chr&gt;</th><th scope=col>&lt;chr&gt;</th><th scope=col>&lt;chr&gt;</th><th scope=col>&lt;dbl&gt;</th><th scope=col>&lt;chr&gt;</th><th scope=col>&lt;chr&gt;</th><th scope=col>&lt;chr&gt;</th><th scope=col>&lt;int&gt;</th></tr>\n",
       "</thead>\n",
       "<tbody>\n",
       "\t<tr><td>28</td><td>1</td><td>2</td><td>130</td><td>132</td><td>0</td><td>2</td><td>185</td><td>0</td><td>0</td><td>NA</td><td>NA</td><td>NA</td><td>0</td></tr>\n",
       "\t<tr><td>29</td><td>1</td><td>2</td><td>140</td><td>NA </td><td>0</td><td>0</td><td>170</td><td>0</td><td>0</td><td>NA</td><td>NA</td><td>NA</td><td>0</td></tr>\n",
       "\t<tr><td>30</td><td>0</td><td>1</td><td>170</td><td>237</td><td>0</td><td>1</td><td>170</td><td>0</td><td>0</td><td>NA</td><td>NA</td><td>6 </td><td>0</td></tr>\n",
       "\t<tr><td>⋮</td><td>⋮</td><td>⋮</td><td>⋮</td><td>⋮</td><td>⋮</td><td>⋮</td><td>⋮</td><td>⋮</td><td>⋮</td><td>⋮</td><td>⋮</td><td>⋮</td><td>⋮</td></tr>\n",
       "\t<tr><td>52</td><td>1</td><td>4</td><td>160</td><td>331</td><td>0</td><td>0</td><td>94 </td><td>1</td><td>2.5</td><td>NA</td><td>NA</td><td>NA</td><td>1</td></tr>\n",
       "\t<tr><td>56</td><td>1</td><td>4</td><td>155</td><td>342</td><td>1</td><td>0</td><td>150</td><td>1</td><td>3.0</td><td>2 </td><td>NA</td><td>NA</td><td>1</td></tr>\n",
       "\t<tr><td>65</td><td>1</td><td>4</td><td>130</td><td>275</td><td>0</td><td>1</td><td>115</td><td>1</td><td>1.0</td><td>2 </td><td>NA</td><td>NA</td><td>1</td></tr>\n",
       "</tbody>\n",
       "</table>\n"
      ],
      "text/latex": [
       "A data.frame: 219 × 14\n",
       "\\begin{tabular}{llllllllllllll}\n",
       " age & sex & chest\\_pain\\_type & resting\\_bps & cholestoral & fasting\\_blood\\_sugar & rest\\_ecg & max\\_heartrate & excercise\\_angina & depression & slope & major\\_vessels & thal & heart\\_disease\\\\\n",
       " <int> & <int> & <int> & <chr> & <chr> & <chr> & <chr> & <chr> & <chr> & <dbl> & <chr> & <chr> & <chr> & <int>\\\\\n",
       "\\hline\n",
       "\t 28 & 1 & 2 & 130 & 132 & 0 & 2 & 185 & 0 & 0 & NA & NA & NA & 0\\\\\n",
       "\t 29 & 1 & 2 & 140 & NA  & 0 & 0 & 170 & 0 & 0 & NA & NA & NA & 0\\\\\n",
       "\t 30 & 0 & 1 & 170 & 237 & 0 & 1 & 170 & 0 & 0 & NA & NA & 6  & 0\\\\\n",
       "\t ⋮ & ⋮ & ⋮ & ⋮ & ⋮ & ⋮ & ⋮ & ⋮ & ⋮ & ⋮ & ⋮ & ⋮ & ⋮ & ⋮\\\\\n",
       "\t 52 & 1 & 4 & 160 & 331 & 0 & 0 & 94  & 1 & 2.5 & NA & NA & NA & 1\\\\\n",
       "\t 56 & 1 & 4 & 155 & 342 & 1 & 0 & 150 & 1 & 3.0 & 2  & NA & NA & 1\\\\\n",
       "\t 65 & 1 & 4 & 130 & 275 & 0 & 1 & 115 & 1 & 1.0 & 2  & NA & NA & 1\\\\\n",
       "\\end{tabular}\n"
      ],
      "text/markdown": [
       "\n",
       "A data.frame: 219 × 14\n",
       "\n",
       "| age &lt;int&gt; | sex &lt;int&gt; | chest_pain_type &lt;int&gt; | resting_bps &lt;chr&gt; | cholestoral &lt;chr&gt; | fasting_blood_sugar &lt;chr&gt; | rest_ecg &lt;chr&gt; | max_heartrate &lt;chr&gt; | excercise_angina &lt;chr&gt; | depression &lt;dbl&gt; | slope &lt;chr&gt; | major_vessels &lt;chr&gt; | thal &lt;chr&gt; | heart_disease &lt;int&gt; |\n",
       "|---|---|---|---|---|---|---|---|---|---|---|---|---|---|\n",
       "| 28 | 1 | 2 | 130 | 132 | 0 | 2 | 185 | 0 | 0 | NA | NA | NA | 0 |\n",
       "| 29 | 1 | 2 | 140 | NA  | 0 | 0 | 170 | 0 | 0 | NA | NA | NA | 0 |\n",
       "| 30 | 0 | 1 | 170 | 237 | 0 | 1 | 170 | 0 | 0 | NA | NA | 6  | 0 |\n",
       "| ⋮ | ⋮ | ⋮ | ⋮ | ⋮ | ⋮ | ⋮ | ⋮ | ⋮ | ⋮ | ⋮ | ⋮ | ⋮ | ⋮ |\n",
       "| 52 | 1 | 4 | 160 | 331 | 0 | 0 | 94  | 1 | 2.5 | NA | NA | NA | 1 |\n",
       "| 56 | 1 | 4 | 155 | 342 | 1 | 0 | 150 | 1 | 3.0 | 2  | NA | NA | 1 |\n",
       "| 65 | 1 | 4 | 130 | 275 | 0 | 1 | 115 | 1 | 1.0 | 2  | NA | NA | 1 |\n",
       "\n"
      ],
      "text/plain": [
       "    age sex chest_pain_type resting_bps cholestoral fasting_blood_sugar\n",
       "1   28  1   2               130         132         0                  \n",
       "2   29  1   2               140         NA          0                  \n",
       "3   30  0   1               170         237         0                  \n",
       "⋮   ⋮   ⋮   ⋮               ⋮           ⋮           ⋮                  \n",
       "217 52  1   4               160         331         0                  \n",
       "218 56  1   4               155         342         1                  \n",
       "219 65  1   4               130         275         0                  \n",
       "    rest_ecg max_heartrate excercise_angina depression slope major_vessels thal\n",
       "1   2        185           0                0          NA    NA            NA  \n",
       "2   0        170           0                0          NA    NA            NA  \n",
       "3   1        170           0                0          NA    NA            6   \n",
       "⋮   ⋮        ⋮             ⋮                ⋮          ⋮     ⋮             ⋮   \n",
       "217 0        94            1                2.5        NA    NA            NA  \n",
       "218 0        150           1                3.0        2     NA            NA  \n",
       "219 1        115           1                1.0        2     NA            NA  \n",
       "    heart_disease\n",
       "1   0            \n",
       "2   0            \n",
       "3   0            \n",
       "⋮   ⋮            \n",
       "217 1            \n",
       "218 1            \n",
       "219 1            "
      ]
     },
     "metadata": {},
     "output_type": "display_data"
    },
    {
     "data": {
      "text/html": [
       "<table class=\"dataframe\">\n",
       "<caption>A data.frame: 75 × 14</caption>\n",
       "<thead>\n",
       "\t<tr><th scope=col>age</th><th scope=col>sex</th><th scope=col>chest_pain_type</th><th scope=col>resting_bps</th><th scope=col>cholestoral</th><th scope=col>fasting_blood_sugar</th><th scope=col>rest_ecg</th><th scope=col>max_heartrate</th><th scope=col>excercise_angina</th><th scope=col>depression</th><th scope=col>slope</th><th scope=col>major_vessels</th><th scope=col>thal</th><th scope=col>heart_disease</th></tr>\n",
       "\t<tr><th scope=col>&lt;int&gt;</th><th scope=col>&lt;int&gt;</th><th scope=col>&lt;int&gt;</th><th scope=col>&lt;chr&gt;</th><th scope=col>&lt;chr&gt;</th><th scope=col>&lt;chr&gt;</th><th scope=col>&lt;chr&gt;</th><th scope=col>&lt;chr&gt;</th><th scope=col>&lt;chr&gt;</th><th scope=col>&lt;dbl&gt;</th><th scope=col>&lt;chr&gt;</th><th scope=col>&lt;chr&gt;</th><th scope=col>&lt;chr&gt;</th><th scope=col>&lt;int&gt;</th></tr>\n",
       "</thead>\n",
       "<tbody>\n",
       "\t<tr><td>29</td><td>1</td><td>2</td><td>120</td><td>243</td><td>0</td><td>0</td><td>160</td><td>0</td><td>0</td><td>NA</td><td>NA</td><td>NA</td><td>0</td></tr>\n",
       "\t<tr><td>31</td><td>0</td><td>2</td><td>100</td><td>219</td><td>0</td><td>1</td><td>150</td><td>0</td><td>0</td><td>NA</td><td>NA</td><td>NA</td><td>0</td></tr>\n",
       "\t<tr><td>35</td><td>0</td><td>1</td><td>120</td><td>160</td><td>0</td><td>1</td><td>185</td><td>0</td><td>0</td><td>NA</td><td>NA</td><td>NA</td><td>0</td></tr>\n",
       "\t<tr><td>⋮</td><td>⋮</td><td>⋮</td><td>⋮</td><td>⋮</td><td>⋮</td><td>⋮</td><td>⋮</td><td>⋮</td><td>⋮</td><td>⋮</td><td>⋮</td><td>⋮</td><td>⋮</td></tr>\n",
       "\t<tr><td>49</td><td>1</td><td>4</td><td>128</td><td>212</td><td>0</td><td>0</td><td>96 </td><td>1</td><td>0</td><td>NA</td><td>NA</td><td>NA</td><td>1</td></tr>\n",
       "\t<tr><td>54</td><td>0</td><td>3</td><td>130</td><td>294</td><td>0</td><td>1</td><td>100</td><td>1</td><td>0</td><td>2 </td><td>NA</td><td>NA</td><td>1</td></tr>\n",
       "\t<tr><td>58</td><td>0</td><td>2</td><td>180</td><td>393</td><td>0</td><td>0</td><td>110</td><td>1</td><td>1</td><td>2 </td><td>NA</td><td>7 </td><td>1</td></tr>\n",
       "</tbody>\n",
       "</table>\n"
      ],
      "text/latex": [
       "A data.frame: 75 × 14\n",
       "\\begin{tabular}{llllllllllllll}\n",
       " age & sex & chest\\_pain\\_type & resting\\_bps & cholestoral & fasting\\_blood\\_sugar & rest\\_ecg & max\\_heartrate & excercise\\_angina & depression & slope & major\\_vessels & thal & heart\\_disease\\\\\n",
       " <int> & <int> & <int> & <chr> & <chr> & <chr> & <chr> & <chr> & <chr> & <dbl> & <chr> & <chr> & <chr> & <int>\\\\\n",
       "\\hline\n",
       "\t 29 & 1 & 2 & 120 & 243 & 0 & 0 & 160 & 0 & 0 & NA & NA & NA & 0\\\\\n",
       "\t 31 & 0 & 2 & 100 & 219 & 0 & 1 & 150 & 0 & 0 & NA & NA & NA & 0\\\\\n",
       "\t 35 & 0 & 1 & 120 & 160 & 0 & 1 & 185 & 0 & 0 & NA & NA & NA & 0\\\\\n",
       "\t ⋮ & ⋮ & ⋮ & ⋮ & ⋮ & ⋮ & ⋮ & ⋮ & ⋮ & ⋮ & ⋮ & ⋮ & ⋮ & ⋮\\\\\n",
       "\t 49 & 1 & 4 & 128 & 212 & 0 & 0 & 96  & 1 & 0 & NA & NA & NA & 1\\\\\n",
       "\t 54 & 0 & 3 & 130 & 294 & 0 & 1 & 100 & 1 & 0 & 2  & NA & NA & 1\\\\\n",
       "\t 58 & 0 & 2 & 180 & 393 & 0 & 0 & 110 & 1 & 1 & 2  & NA & 7  & 1\\\\\n",
       "\\end{tabular}\n"
      ],
      "text/markdown": [
       "\n",
       "A data.frame: 75 × 14\n",
       "\n",
       "| age &lt;int&gt; | sex &lt;int&gt; | chest_pain_type &lt;int&gt; | resting_bps &lt;chr&gt; | cholestoral &lt;chr&gt; | fasting_blood_sugar &lt;chr&gt; | rest_ecg &lt;chr&gt; | max_heartrate &lt;chr&gt; | excercise_angina &lt;chr&gt; | depression &lt;dbl&gt; | slope &lt;chr&gt; | major_vessels &lt;chr&gt; | thal &lt;chr&gt; | heart_disease &lt;int&gt; |\n",
       "|---|---|---|---|---|---|---|---|---|---|---|---|---|---|\n",
       "| 29 | 1 | 2 | 120 | 243 | 0 | 0 | 160 | 0 | 0 | NA | NA | NA | 0 |\n",
       "| 31 | 0 | 2 | 100 | 219 | 0 | 1 | 150 | 0 | 0 | NA | NA | NA | 0 |\n",
       "| 35 | 0 | 1 | 120 | 160 | 0 | 1 | 185 | 0 | 0 | NA | NA | NA | 0 |\n",
       "| ⋮ | ⋮ | ⋮ | ⋮ | ⋮ | ⋮ | ⋮ | ⋮ | ⋮ | ⋮ | ⋮ | ⋮ | ⋮ | ⋮ |\n",
       "| 49 | 1 | 4 | 128 | 212 | 0 | 0 | 96  | 1 | 0 | NA | NA | NA | 1 |\n",
       "| 54 | 0 | 3 | 130 | 294 | 0 | 1 | 100 | 1 | 0 | 2  | NA | NA | 1 |\n",
       "| 58 | 0 | 2 | 180 | 393 | 0 | 0 | 110 | 1 | 1 | 2  | NA | 7  | 1 |\n",
       "\n"
      ],
      "text/plain": [
       "   age sex chest_pain_type resting_bps cholestoral fasting_blood_sugar rest_ecg\n",
       "1  29  1   2               120         243         0                   0       \n",
       "2  31  0   2               100         219         0                   1       \n",
       "3  35  0   1               120         160         0                   1       \n",
       "⋮  ⋮   ⋮   ⋮               ⋮           ⋮           ⋮                   ⋮       \n",
       "73 49  1   4               128         212         0                   0       \n",
       "74 54  0   3               130         294         0                   1       \n",
       "75 58  0   2               180         393         0                   0       \n",
       "   max_heartrate excercise_angina depression slope major_vessels thal\n",
       "1  160           0                0          NA    NA            NA  \n",
       "2  150           0                0          NA    NA            NA  \n",
       "3  185           0                0          NA    NA            NA  \n",
       "⋮  ⋮             ⋮                ⋮          ⋮     ⋮             ⋮   \n",
       "73 96            1                0          NA    NA            NA  \n",
       "74 100           1                0          2     NA            NA  \n",
       "75 110           1                1          2     NA            7   \n",
       "   heart_disease\n",
       "1  0            \n",
       "2  0            \n",
       "3  0            \n",
       "⋮  ⋮            \n",
       "73 1            \n",
       "74 1            \n",
       "75 1            "
      ]
     },
     "metadata": {},
     "output_type": "display_data"
    }
   ],
   "source": [
    "hungry <- read.csv(\"data/processed.hungarian.data\", header = FALSE)\n",
    "\n",
    "colnames(hungry) <- c(\"age\", 'sex', 'chest_pain_type', 'resting_bps', 'cholestoral', 'fasting_blood_sugar', 'rest_ecg', 'max_heartrate', 'excercise_angina', 'depression', 'slope', 'major_vessels', 'thal', 'heart_disease')\n",
    "hungry[hungry == \"?\"] <- NA\n",
    "\n",
    "\n",
    "#hw1 coding team: visualize data (ggpair)?, wrangle, make training and testing data, split training and testing data\n",
    "# replace '?' to na\n",
    "\n",
    "# hungry_clean <- hungry |>\n",
    "#     select(-sex, -excercise_angina, -depression, -slope, -major_vessels, -thal, -rest_ecg, -fasting_blood_sugar) #|>\n",
    "#    # replace_with_na(replace = list(cholestoral = \"?\")\n",
    "\n",
    "hungry_split <- initial_split(hungry, prop = 3/4, strata = chest_pain_type)\n",
    "hungry_training <- training(hungry_split)\n",
    "hungry_testing <- testing(hungry_split)\n",
    "hungry_training\n",
    "hungry_testing"
   ]
  },
  {
   "cell_type": "code",
   "execution_count": null,
   "id": "bfde5214-37cb-4d8b-a412-0cf555779aed",
   "metadata": {},
   "outputs": [],
   "source": []
  }
 ],
 "metadata": {
  "kernelspec": {
   "display_name": "R",
   "language": "R",
   "name": "ir"
  },
  "language_info": {
   "codemirror_mode": "r",
   "file_extension": ".r",
   "mimetype": "text/x-r-source",
   "name": "R",
   "pygments_lexer": "r",
   "version": "4.3.1"
  }
 },
 "nbformat": 4,
 "nbformat_minor": 5
}
