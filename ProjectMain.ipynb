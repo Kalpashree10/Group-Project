{
 "cells": [
  {
   "cell_type": "code",
   "execution_count": 40,
   "id": "437df2fe-628f-4244-b8d3-55d30927b319",
   "metadata": {},
   "outputs": [],
   "source": [
    "library(tidyverse)\n",
    "library(repr)\n",
    "library(readxl)\n",
    "library(ggplot2)"
   ]
  },
  {
   "cell_type": "code",
   "execution_count": 39,
   "id": "a6650c9a-7e4a-47c2-9641-b2a9ddb6c3d6",
   "metadata": {},
   "outputs": [
    {
     "ename": "ERROR",
     "evalue": "Error in ggpair(): could not find function \"ggpair\"\n",
     "output_type": "error",
     "traceback": [
      "Error in ggpair(): could not find function \"ggpair\"\nTraceback:\n"
     ]
    }
   ],
   "source": [
    "hungry <- read.csv(\"data/processed.hungarian.data\", header = FALSE)\n",
    "\n",
    "colnames(hungry) <- c(\"age\", 'sex', 'chest_pain_type', 'resting_bps', 'cholestoral', 'fasting_blood_sugar', 'rest_ecg', 'max_heartrate', 'excercise_angina', 'depression', 'slope', 'major_vessels', 'thal', 'heart_disease')\n",
    "hungry[hungry == \"?\"] <- NA\n",
    "\n",
    "\n",
    "#hw1 coding team: visualize data (ggpair), wrangle, summarize, split training and testing data\n",
    "# replace '?' to na\n",
    "\n",
    "# hungry_clean <- hungry |>\n",
    "#     select(-sex, -excercise_angina, -depression, -slope, -major_vessels, -thal, -rest_ecg, -fasting_blood_sugar) #|>\n",
    "#    # replace_with_na(replace = list(cholestoral = \"?\")\n",
    "\n",
    "hungry_pairs <- ggpair()"
   ]
  },
  {
   "cell_type": "code",
   "execution_count": null,
   "id": "bfde5214-37cb-4d8b-a412-0cf555779aed",
   "metadata": {},
   "outputs": [],
   "source": []
  }
 ],
 "metadata": {
  "kernelspec": {
   "display_name": "R",
   "language": "R",
   "name": "ir"
  },
  "language_info": {
   "codemirror_mode": "r",
   "file_extension": ".r",
   "mimetype": "text/x-r-source",
   "name": "R",
   "pygments_lexer": "r",
   "version": "4.3.1"
  }
 },
 "nbformat": 4,
 "nbformat_minor": 5
}
